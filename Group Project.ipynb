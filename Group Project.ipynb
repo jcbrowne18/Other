{
  "cells": [
    {
      "metadata": {
        "trusted": true
      },
      "cell_type": "code",
      "source": "import pandas as pd\nimport numpy as np\n\nloc = \"MERGED2016_17_PP.csv\"\n\ndfraw = pd.read_csv(loc)",
      "execution_count": 1,
      "outputs": [
        {
          "output_type": "stream",
          "text": "/home/nbuser/anaconda3_420/lib/python3.5/site-packages/IPython/core/interactiveshell.py:2728: DtypeWarning: Columns (676,1725) have mixed types. Specify dtype option on import or set low_memory=False.\n  interactivity=interactivity, compiler=compiler, result=result)\n",
          "name": "stderr"
        }
      ]
    },
    {
      "metadata": {
        "trusted": true
      },
      "cell_type": "code",
      "source": "dfraw.head()",
      "execution_count": 2,
      "outputs": [
        {
          "output_type": "execute_result",
          "execution_count": 2,
          "data": {
            "text/html": "<div>\n<table border=\"1\" class=\"dataframe\">\n  <thead>\n    <tr style=\"text-align: right;\">\n      <th></th>\n      <th>UNITID</th>\n      <th>OPEID</th>\n      <th>OPEID6</th>\n      <th>INSTNM</th>\n      <th>CITY</th>\n      <th>STABBR</th>\n      <th>ZIP</th>\n      <th>ACCREDAGENCY</th>\n      <th>INSTURL</th>\n      <th>NPCURL</th>\n      <th>...</th>\n      <th>D150_4_LOANNOPELL</th>\n      <th>C150_L4_LOANNOPELL</th>\n      <th>D150_L4_LOANNOPELL</th>\n      <th>C150_4_NOLOANNOPELL</th>\n      <th>D150_4_NOLOANNOPELL</th>\n      <th>C150_L4_NOLOANNOPELL</th>\n      <th>D150_L4_NOLOANNOPELL</th>\n      <th>GT_28K_P10</th>\n      <th>GT_28K_P8</th>\n      <th>GT_28K_P6</th>\n    </tr>\n  </thead>\n  <tbody>\n    <tr>\n      <th>0</th>\n      <td>100654</td>\n      <td>100200</td>\n      <td>1002</td>\n      <td>Alabama A &amp; M University</td>\n      <td>Normal</td>\n      <td>AL</td>\n      <td>35762</td>\n      <td>Southern Association of Colleges and Schools C...</td>\n      <td>www.aamu.edu/</td>\n      <td>www2.aamu.edu/scripts/netpricecalc/npcalc.htm</td>\n      <td>...</td>\n      <td>195.0</td>\n      <td>NaN</td>\n      <td>NaN</td>\n      <td>0.3258</td>\n      <td>89.0</td>\n      <td>NaN</td>\n      <td>NaN</td>\n      <td>NaN</td>\n      <td>NaN</td>\n      <td>NaN</td>\n    </tr>\n    <tr>\n      <th>1</th>\n      <td>100663</td>\n      <td>105200</td>\n      <td>1052</td>\n      <td>University of Alabama at Birmingham</td>\n      <td>Birmingham</td>\n      <td>AL</td>\n      <td>35294-0110</td>\n      <td>Southern Association of Colleges and Schools C...</td>\n      <td>www.uab.edu</td>\n      <td>uab.studentaidcalculator.com/survey.aspx</td>\n      <td>...</td>\n      <td>229.0</td>\n      <td>NaN</td>\n      <td>NaN</td>\n      <td>0.5603</td>\n      <td>630.0</td>\n      <td>NaN</td>\n      <td>NaN</td>\n      <td>NaN</td>\n      <td>NaN</td>\n      <td>NaN</td>\n    </tr>\n    <tr>\n      <th>2</th>\n      <td>100690</td>\n      <td>2503400</td>\n      <td>25034</td>\n      <td>Amridge University</td>\n      <td>Montgomery</td>\n      <td>AL</td>\n      <td>36117-3553</td>\n      <td>Southern Association of Colleges and Schools C...</td>\n      <td>www.amridgeuniversity.edu</td>\n      <td>www2.amridgeuniversity.edu:9091/</td>\n      <td>...</td>\n      <td>NaN</td>\n      <td>NaN</td>\n      <td>NaN</td>\n      <td>0.5000</td>\n      <td>2.0</td>\n      <td>NaN</td>\n      <td>NaN</td>\n      <td>NaN</td>\n      <td>NaN</td>\n      <td>NaN</td>\n    </tr>\n    <tr>\n      <th>3</th>\n      <td>100706</td>\n      <td>105500</td>\n      <td>1055</td>\n      <td>University of Alabama in Huntsville</td>\n      <td>Huntsville</td>\n      <td>AL</td>\n      <td>35899</td>\n      <td>Southern Association of Colleges and Schools C...</td>\n      <td>www.uah.edu</td>\n      <td>finaid.uah.edu/</td>\n      <td>...</td>\n      <td>135.0</td>\n      <td>NaN</td>\n      <td>NaN</td>\n      <td>0.5606</td>\n      <td>264.0</td>\n      <td>NaN</td>\n      <td>NaN</td>\n      <td>NaN</td>\n      <td>NaN</td>\n      <td>NaN</td>\n    </tr>\n    <tr>\n      <th>4</th>\n      <td>100724</td>\n      <td>100500</td>\n      <td>1005</td>\n      <td>Alabama State University</td>\n      <td>Montgomery</td>\n      <td>AL</td>\n      <td>36104-0271</td>\n      <td>Southern Association of Colleges and Schools C...</td>\n      <td>www.alasu.edu</td>\n      <td>www.alasu.edu/cost-aid/forms/calculator/index....</td>\n      <td>...</td>\n      <td>55.0</td>\n      <td>NaN</td>\n      <td>NaN</td>\n      <td>0.2277</td>\n      <td>101.0</td>\n      <td>NaN</td>\n      <td>NaN</td>\n      <td>NaN</td>\n      <td>NaN</td>\n      <td>NaN</td>\n    </tr>\n  </tbody>\n</table>\n<p>5 rows × 1847 columns</p>\n</div>",
            "text/plain": "   UNITID    OPEID  OPEID6                               INSTNM        CITY  \\\n0  100654   100200    1002             Alabama A & M University      Normal   \n1  100663   105200    1052  University of Alabama at Birmingham  Birmingham   \n2  100690  2503400   25034                   Amridge University  Montgomery   \n3  100706   105500    1055  University of Alabama in Huntsville  Huntsville   \n4  100724   100500    1005             Alabama State University  Montgomery   \n\n  STABBR         ZIP                                       ACCREDAGENCY  \\\n0     AL       35762  Southern Association of Colleges and Schools C...   \n1     AL  35294-0110  Southern Association of Colleges and Schools C...   \n2     AL  36117-3553  Southern Association of Colleges and Schools C...   \n3     AL       35899  Southern Association of Colleges and Schools C...   \n4     AL  36104-0271  Southern Association of Colleges and Schools C...   \n\n                     INSTURL  \\\n0              www.aamu.edu/   \n1                www.uab.edu   \n2  www.amridgeuniversity.edu   \n3                www.uah.edu   \n4              www.alasu.edu   \n\n                                              NPCURL    ...      \\\n0      www2.aamu.edu/scripts/netpricecalc/npcalc.htm    ...       \n1           uab.studentaidcalculator.com/survey.aspx    ...       \n2                   www2.amridgeuniversity.edu:9091/    ...       \n3                                    finaid.uah.edu/    ...       \n4  www.alasu.edu/cost-aid/forms/calculator/index....    ...       \n\n   D150_4_LOANNOPELL  C150_L4_LOANNOPELL  D150_L4_LOANNOPELL  \\\n0              195.0                 NaN                 NaN   \n1              229.0                 NaN                 NaN   \n2                NaN                 NaN                 NaN   \n3              135.0                 NaN                 NaN   \n4               55.0                 NaN                 NaN   \n\n   C150_4_NOLOANNOPELL  D150_4_NOLOANNOPELL  C150_L4_NOLOANNOPELL  \\\n0               0.3258                 89.0                   NaN   \n1               0.5603                630.0                   NaN   \n2               0.5000                  2.0                   NaN   \n3               0.5606                264.0                   NaN   \n4               0.2277                101.0                   NaN   \n\n   D150_L4_NOLOANNOPELL  GT_28K_P10  GT_28K_P8  GT_28K_P6  \n0                   NaN         NaN        NaN        NaN  \n1                   NaN         NaN        NaN        NaN  \n2                   NaN         NaN        NaN        NaN  \n3                   NaN         NaN        NaN        NaN  \n4                   NaN         NaN        NaN        NaN  \n\n[5 rows x 1847 columns]"
          },
          "metadata": {}
        }
      ]
    },
    {
      "metadata": {
        "trusted": true
      },
      "cell_type": "code",
      "source": "dfraw.shape",
      "execution_count": null,
      "outputs": []
    },
    {
      "metadata": {},
      "cell_type": "markdown",
      "source": "### There are a ridiculous number of columns here, so lets grab some interesting variables and put them in their own dataframe"
    },
    {
      "metadata": {
        "trusted": true
      },
      "cell_type": "code",
      "source": "df = dfraw[[\"C100_4\", \"NPT4_PUB\"]]\ndf.columns = [\"completion\", \"public_school_tuition\"]",
      "execution_count": 3,
      "outputs": []
    },
    {
      "metadata": {
        "trusted": true
      },
      "cell_type": "code",
      "source": "df.head()",
      "execution_count": 4,
      "outputs": [
        {
          "output_type": "execute_result",
          "execution_count": 4,
          "data": {
            "text/html": "<div>\n<table border=\"1\" class=\"dataframe\">\n  <thead>\n    <tr style=\"text-align: right;\">\n      <th></th>\n      <th>completion</th>\n      <th>public_school_tuition</th>\n    </tr>\n  </thead>\n  <tbody>\n    <tr>\n      <th>0</th>\n      <td>0.0643</td>\n      <td>15567.0</td>\n    </tr>\n    <tr>\n      <th>1</th>\n      <td>0.3018</td>\n      <td>16475.0</td>\n    </tr>\n    <tr>\n      <th>2</th>\n      <td>0.1429</td>\n      <td>NaN</td>\n    </tr>\n    <tr>\n      <th>3</th>\n      <td>0.1533</td>\n      <td>19423.0</td>\n    </tr>\n    <tr>\n      <th>4</th>\n      <td>0.0725</td>\n      <td>15037.0</td>\n    </tr>\n  </tbody>\n</table>\n</div>",
            "text/plain": "   completion  public_school_tuition\n0      0.0643                15567.0\n1      0.3018                16475.0\n2      0.1429                    NaN\n3      0.1533                19423.0\n4      0.0725                15037.0"
          },
          "metadata": {}
        }
      ]
    },
    {
      "metadata": {
        "trusted": true
      },
      "cell_type": "code",
      "source": "df.corr()",
      "execution_count": 52,
      "outputs": [
        {
          "output_type": "execute_result",
          "execution_count": 52,
          "data": {
            "text/plain": "                       completion  public_school_tuition\ncompletion               1.000000               0.514966\npublic_school_tuition    0.514966               1.000000",
            "text/html": "<div>\n<table border=\"1\" class=\"dataframe\">\n  <thead>\n    <tr style=\"text-align: right;\">\n      <th></th>\n      <th>completion</th>\n      <th>public_school_tuition</th>\n    </tr>\n  </thead>\n  <tbody>\n    <tr>\n      <th>completion</th>\n      <td>1.000000</td>\n      <td>0.514966</td>\n    </tr>\n    <tr>\n      <th>public_school_tuition</th>\n      <td>0.514966</td>\n      <td>1.000000</td>\n    </tr>\n  </tbody>\n</table>\n</div>"
          },
          "metadata": {}
        }
      ]
    },
    {
      "metadata": {},
      "cell_type": "markdown",
      "source": "### Joy suggested that INEXPFTE (instructional expenditures per full-time student) and ADM_RATE (admissions rate) are correlated with completion rates, so lets add those to the dataframe and run the correlation"
    },
    {
      "metadata": {
        "trusted": true
      },
      "cell_type": "code",
      "source": "df[\"expenditures_per_student\"] = dfraw[\"INEXPFTE\"]\ndf[\"adm_rate\"] = dfraw[\"ADM_RATE\"]",
      "execution_count": 5,
      "outputs": [
        {
          "output_type": "stream",
          "text": "/home/nbuser/anaconda3_420/lib/python3.5/site-packages/ipykernel/__main__.py:1: SettingWithCopyWarning: \nA value is trying to be set on a copy of a slice from a DataFrame.\nTry using .loc[row_indexer,col_indexer] = value instead\n\nSee the caveats in the documentation: http://pandas.pydata.org/pandas-docs/stable/indexing.html#indexing-view-versus-copy\n  if __name__ == '__main__':\n/home/nbuser/anaconda3_420/lib/python3.5/site-packages/ipykernel/__main__.py:2: SettingWithCopyWarning: \nA value is trying to be set on a copy of a slice from a DataFrame.\nTry using .loc[row_indexer,col_indexer] = value instead\n\nSee the caveats in the documentation: http://pandas.pydata.org/pandas-docs/stable/indexing.html#indexing-view-versus-copy\n  from ipykernel import kernelapp as app\n",
          "name": "stderr"
        }
      ]
    },
    {
      "metadata": {},
      "cell_type": "markdown",
      "source": "### I suggest looking at pell_grant_rate, and loan_principal. The intuition is that if you qualify for pell you're from a disadvantaged background and less likely to graduate"
    },
    {
      "metadata": {
        "scrolled": true,
        "trusted": true
      },
      "cell_type": "code",
      "source": "df[\"pell_grant_rate\"]=dfraw[\"PCTPELL\"]",
      "execution_count": 6,
      "outputs": [
        {
          "output_type": "stream",
          "text": "/home/nbuser/anaconda3_420/lib/python3.5/site-packages/ipykernel/__main__.py:1: SettingWithCopyWarning: \nA value is trying to be set on a copy of a slice from a DataFrame.\nTry using .loc[row_indexer,col_indexer] = value instead\n\nSee the caveats in the documentation: http://pandas.pydata.org/pandas-docs/stable/indexing.html#indexing-view-versus-copy\n  if __name__ == '__main__':\n",
          "name": "stderr"
        }
      ]
    },
    {
      "metadata": {
        "trusted": true
      },
      "cell_type": "code",
      "source": "df.head()",
      "execution_count": 7,
      "outputs": [
        {
          "output_type": "execute_result",
          "execution_count": 7,
          "data": {
            "text/html": "<div>\n<table border=\"1\" class=\"dataframe\">\n  <thead>\n    <tr style=\"text-align: right;\">\n      <th></th>\n      <th>completion</th>\n      <th>public_school_tuition</th>\n      <th>expenditures_per_student</th>\n      <th>adm_rate</th>\n      <th>pell_grant_rate</th>\n    </tr>\n  </thead>\n  <tbody>\n    <tr>\n      <th>0</th>\n      <td>0.0643</td>\n      <td>15567.0</td>\n      <td>5888.0</td>\n      <td>0.8738</td>\n      <td>0.7039</td>\n    </tr>\n    <tr>\n      <th>1</th>\n      <td>0.3018</td>\n      <td>16475.0</td>\n      <td>17055.0</td>\n      <td>0.5814</td>\n      <td>0.3525</td>\n    </tr>\n    <tr>\n      <th>2</th>\n      <td>0.1429</td>\n      <td>NaN</td>\n      <td>5417.0</td>\n      <td>NaN</td>\n      <td>0.6971</td>\n    </tr>\n    <tr>\n      <th>3</th>\n      <td>0.1533</td>\n      <td>19423.0</td>\n      <td>10558.0</td>\n      <td>0.7628</td>\n      <td>0.2949</td>\n    </tr>\n    <tr>\n      <th>4</th>\n      <td>0.0725</td>\n      <td>15037.0</td>\n      <td>7889.0</td>\n      <td>0.4590</td>\n      <td>0.7815</td>\n    </tr>\n  </tbody>\n</table>\n</div>",
            "text/plain": "   completion  public_school_tuition  expenditures_per_student  adm_rate  \\\n0      0.0643                15567.0                    5888.0    0.8738   \n1      0.3018                16475.0                   17055.0    0.5814   \n2      0.1429                    NaN                    5417.0       NaN   \n3      0.1533                19423.0                   10558.0    0.7628   \n4      0.0725                15037.0                    7889.0    0.4590   \n\n   pell_grant_rate  \n0           0.7039  \n1           0.3525  \n2           0.6971  \n3           0.2949  \n4           0.7815  "
          },
          "metadata": {}
        }
      ]
    },
    {
      "metadata": {},
      "cell_type": "markdown",
      "source": "### Another place to look for impact on completion rates is the share of degree seeking students who are of a particular race or ethnicity"
    },
    {
      "metadata": {
        "trusted": true
      },
      "cell_type": "code",
      "source": "df[\"white\"] = dfraw[\"UGDS_WHITE\"]\ndf[\"black\"] = dfraw[\"UGDS_BLACK\"]\ndf[\"hispanic\"] = dfraw[\"UGDS_HISP\"]\ndf[\"asian\"] = dfraw[\"UGDS_ASIAN\"]\ndf[\"american_indian\"] = dfraw[\"UGDS_AIAN\"]\ndf[\"hawaiian_pcislander\"] = dfraw[\"UGDS_NHPI\"]\ndf[\"race_ethnicity_two\"] =dfraw[\"UGDS_2MOR\"]\ndf[\"nonresident\"] = dfraw[\"UGDS_NRA\"]\ndf[\"unknown\"] = dfraw[\"UGDS_UNKN\"]",
      "execution_count": 8,
      "outputs": [
        {
          "output_type": "stream",
          "text": "/home/nbuser/anaconda3_420/lib/python3.5/site-packages/ipykernel/__main__.py:1: SettingWithCopyWarning: \nA value is trying to be set on a copy of a slice from a DataFrame.\nTry using .loc[row_indexer,col_indexer] = value instead\n\nSee the caveats in the documentation: http://pandas.pydata.org/pandas-docs/stable/indexing.html#indexing-view-versus-copy\n  if __name__ == '__main__':\n/home/nbuser/anaconda3_420/lib/python3.5/site-packages/ipykernel/__main__.py:2: SettingWithCopyWarning: \nA value is trying to be set on a copy of a slice from a DataFrame.\nTry using .loc[row_indexer,col_indexer] = value instead\n\nSee the caveats in the documentation: http://pandas.pydata.org/pandas-docs/stable/indexing.html#indexing-view-versus-copy\n  from ipykernel import kernelapp as app\n/home/nbuser/anaconda3_420/lib/python3.5/site-packages/ipykernel/__main__.py:3: SettingWithCopyWarning: \nA value is trying to be set on a copy of a slice from a DataFrame.\nTry using .loc[row_indexer,col_indexer] = value instead\n\nSee the caveats in the documentation: http://pandas.pydata.org/pandas-docs/stable/indexing.html#indexing-view-versus-copy\n  app.launch_new_instance()\n/home/nbuser/anaconda3_420/lib/python3.5/site-packages/ipykernel/__main__.py:4: SettingWithCopyWarning: \nA value is trying to be set on a copy of a slice from a DataFrame.\nTry using .loc[row_indexer,col_indexer] = value instead\n\nSee the caveats in the documentation: http://pandas.pydata.org/pandas-docs/stable/indexing.html#indexing-view-versus-copy\n/home/nbuser/anaconda3_420/lib/python3.5/site-packages/ipykernel/__main__.py:5: SettingWithCopyWarning: \nA value is trying to be set on a copy of a slice from a DataFrame.\nTry using .loc[row_indexer,col_indexer] = value instead\n\nSee the caveats in the documentation: http://pandas.pydata.org/pandas-docs/stable/indexing.html#indexing-view-versus-copy\n/home/nbuser/anaconda3_420/lib/python3.5/site-packages/ipykernel/__main__.py:6: SettingWithCopyWarning: \nA value is trying to be set on a copy of a slice from a DataFrame.\nTry using .loc[row_indexer,col_indexer] = value instead\n\nSee the caveats in the documentation: http://pandas.pydata.org/pandas-docs/stable/indexing.html#indexing-view-versus-copy\n/home/nbuser/anaconda3_420/lib/python3.5/site-packages/ipykernel/__main__.py:7: SettingWithCopyWarning: \nA value is trying to be set on a copy of a slice from a DataFrame.\nTry using .loc[row_indexer,col_indexer] = value instead\n\nSee the caveats in the documentation: http://pandas.pydata.org/pandas-docs/stable/indexing.html#indexing-view-versus-copy\n/home/nbuser/anaconda3_420/lib/python3.5/site-packages/ipykernel/__main__.py:8: SettingWithCopyWarning: \nA value is trying to be set on a copy of a slice from a DataFrame.\nTry using .loc[row_indexer,col_indexer] = value instead\n\nSee the caveats in the documentation: http://pandas.pydata.org/pandas-docs/stable/indexing.html#indexing-view-versus-copy\n/home/nbuser/anaconda3_420/lib/python3.5/site-packages/ipykernel/__main__.py:9: SettingWithCopyWarning: \nA value is trying to be set on a copy of a slice from a DataFrame.\nTry using .loc[row_indexer,col_indexer] = value instead\n\nSee the caveats in the documentation: http://pandas.pydata.org/pandas-docs/stable/indexing.html#indexing-view-versus-copy\n",
          "name": "stderr"
        }
      ]
    },
    {
      "metadata": {
        "trusted": true
      },
      "cell_type": "code",
      "source": "df.corr()",
      "execution_count": 9,
      "outputs": [
        {
          "output_type": "execute_result",
          "execution_count": 9,
          "data": {
            "text/html": "<div>\n<table border=\"1\" class=\"dataframe\">\n  <thead>\n    <tr style=\"text-align: right;\">\n      <th></th>\n      <th>completion</th>\n      <th>public_school_tuition</th>\n      <th>expenditures_per_student</th>\n      <th>adm_rate</th>\n      <th>pell_grant_rate</th>\n      <th>white</th>\n      <th>black</th>\n      <th>hispanic</th>\n      <th>asian</th>\n      <th>american_indian</th>\n      <th>hawaiian_pcislander</th>\n      <th>race_ethnicity_two</th>\n      <th>nonresident</th>\n      <th>unknown</th>\n    </tr>\n  </thead>\n  <tbody>\n    <tr>\n      <th>completion</th>\n      <td>1.000000</td>\n      <td>0.514966</td>\n      <td>0.451118</td>\n      <td>-0.297737</td>\n      <td>-0.565470</td>\n      <td>0.164717</td>\n      <td>-0.321876</td>\n      <td>-0.016740</td>\n      <td>0.260182</td>\n      <td>-0.043332</td>\n      <td>-0.094701</td>\n      <td>0.112000</td>\n      <td>0.200733</td>\n      <td>-0.069741</td>\n    </tr>\n    <tr>\n      <th>public_school_tuition</th>\n      <td>0.514966</td>\n      <td>1.000000</td>\n      <td>0.418070</td>\n      <td>0.067616</td>\n      <td>-0.123374</td>\n      <td>0.190650</td>\n      <td>-0.039623</td>\n      <td>-0.231186</td>\n      <td>0.017355</td>\n      <td>-0.092880</td>\n      <td>-0.071426</td>\n      <td>0.004581</td>\n      <td>0.219540</td>\n      <td>0.022197</td>\n    </tr>\n    <tr>\n      <th>expenditures_per_student</th>\n      <td>0.451118</td>\n      <td>0.418070</td>\n      <td>1.000000</td>\n      <td>-0.384643</td>\n      <td>-0.320723</td>\n      <td>0.037661</td>\n      <td>-0.151433</td>\n      <td>-0.095913</td>\n      <td>0.248910</td>\n      <td>-0.001747</td>\n      <td>-0.040525</td>\n      <td>0.102924</td>\n      <td>0.242489</td>\n      <td>0.011870</td>\n    </tr>\n    <tr>\n      <th>adm_rate</th>\n      <td>-0.297737</td>\n      <td>0.067616</td>\n      <td>-0.384643</td>\n      <td>1.000000</td>\n      <td>0.118348</td>\n      <td>0.245675</td>\n      <td>-0.116834</td>\n      <td>-0.057294</td>\n      <td>-0.287732</td>\n      <td>0.059356</td>\n      <td>0.013785</td>\n      <td>-0.076833</td>\n      <td>-0.185066</td>\n      <td>-0.013716</td>\n    </tr>\n    <tr>\n      <th>pell_grant_rate</th>\n      <td>-0.565470</td>\n      <td>-0.123374</td>\n      <td>-0.320723</td>\n      <td>0.118348</td>\n      <td>1.000000</td>\n      <td>-0.282333</td>\n      <td>0.475038</td>\n      <td>0.052887</td>\n      <td>-0.206219</td>\n      <td>0.073972</td>\n      <td>0.056482</td>\n      <td>-0.125874</td>\n      <td>-0.291917</td>\n      <td>-0.012612</td>\n    </tr>\n    <tr>\n      <th>white</th>\n      <td>0.164717</td>\n      <td>0.190650</td>\n      <td>0.037661</td>\n      <td>0.245675</td>\n      <td>-0.282333</td>\n      <td>1.000000</td>\n      <td>-0.539524</td>\n      <td>-0.542132</td>\n      <td>-0.325517</td>\n      <td>-0.160988</td>\n      <td>-0.133356</td>\n      <td>-0.093288</td>\n      <td>-0.150679</td>\n      <td>-0.193684</td>\n    </tr>\n    <tr>\n      <th>black</th>\n      <td>-0.321876</td>\n      <td>-0.039623</td>\n      <td>-0.151433</td>\n      <td>-0.116834</td>\n      <td>0.475038</td>\n      <td>-0.539524</td>\n      <td>1.000000</td>\n      <td>-0.139516</td>\n      <td>-0.148389</td>\n      <td>-0.091492</td>\n      <td>-0.032346</td>\n      <td>-0.127097</td>\n      <td>-0.131092</td>\n      <td>-0.034165</td>\n    </tr>\n    <tr>\n      <th>hispanic</th>\n      <td>-0.016740</td>\n      <td>-0.231186</td>\n      <td>-0.095913</td>\n      <td>-0.057294</td>\n      <td>0.052887</td>\n      <td>-0.542132</td>\n      <td>-0.139516</td>\n      <td>1.000000</td>\n      <td>0.181407</td>\n      <td>-0.047228</td>\n      <td>0.059547</td>\n      <td>0.006731</td>\n      <td>-0.033324</td>\n      <td>-0.030911</td>\n    </tr>\n    <tr>\n      <th>asian</th>\n      <td>0.260182</td>\n      <td>0.017355</td>\n      <td>0.248910</td>\n      <td>-0.287732</td>\n      <td>-0.206219</td>\n      <td>-0.325517</td>\n      <td>-0.148389</td>\n      <td>0.181407</td>\n      <td>1.000000</td>\n      <td>-0.069042</td>\n      <td>0.187013</td>\n      <td>0.210037</td>\n      <td>0.216433</td>\n      <td>-0.008088</td>\n    </tr>\n    <tr>\n      <th>american_indian</th>\n      <td>-0.043332</td>\n      <td>-0.092880</td>\n      <td>-0.001747</td>\n      <td>0.059356</td>\n      <td>0.073972</td>\n      <td>-0.160988</td>\n      <td>-0.091492</td>\n      <td>-0.047228</td>\n      <td>-0.069042</td>\n      <td>1.000000</td>\n      <td>-0.009668</td>\n      <td>-0.024952</td>\n      <td>-0.054998</td>\n      <td>-0.032272</td>\n    </tr>\n    <tr>\n      <th>hawaiian_pcislander</th>\n      <td>-0.094701</td>\n      <td>-0.071426</td>\n      <td>-0.040525</td>\n      <td>0.013785</td>\n      <td>0.056482</td>\n      <td>-0.133356</td>\n      <td>-0.032346</td>\n      <td>0.059547</td>\n      <td>0.187013</td>\n      <td>-0.009668</td>\n      <td>1.000000</td>\n      <td>0.149586</td>\n      <td>-0.026021</td>\n      <td>0.005134</td>\n    </tr>\n    <tr>\n      <th>race_ethnicity_two</th>\n      <td>0.112000</td>\n      <td>0.004581</td>\n      <td>0.102924</td>\n      <td>-0.076833</td>\n      <td>-0.125874</td>\n      <td>-0.093288</td>\n      <td>-0.127097</td>\n      <td>0.006731</td>\n      <td>0.210037</td>\n      <td>-0.024952</td>\n      <td>0.149586</td>\n      <td>1.000000</td>\n      <td>0.044996</td>\n      <td>-0.044771</td>\n    </tr>\n    <tr>\n      <th>nonresident</th>\n      <td>0.200733</td>\n      <td>0.219540</td>\n      <td>0.242489</td>\n      <td>-0.185066</td>\n      <td>-0.291917</td>\n      <td>-0.150679</td>\n      <td>-0.131092</td>\n      <td>-0.033324</td>\n      <td>0.216433</td>\n      <td>-0.054998</td>\n      <td>-0.026021</td>\n      <td>0.044996</td>\n      <td>1.000000</td>\n      <td>0.013205</td>\n    </tr>\n    <tr>\n      <th>unknown</th>\n      <td>-0.069741</td>\n      <td>0.022197</td>\n      <td>0.011870</td>\n      <td>-0.013716</td>\n      <td>-0.012612</td>\n      <td>-0.193684</td>\n      <td>-0.034165</td>\n      <td>-0.030911</td>\n      <td>-0.008088</td>\n      <td>-0.032272</td>\n      <td>0.005134</td>\n      <td>-0.044771</td>\n      <td>0.013205</td>\n      <td>1.000000</td>\n    </tr>\n  </tbody>\n</table>\n</div>",
            "text/plain": "                          completion  public_school_tuition  \\\ncompletion                  1.000000               0.514966   \npublic_school_tuition       0.514966               1.000000   \nexpenditures_per_student    0.451118               0.418070   \nadm_rate                   -0.297737               0.067616   \npell_grant_rate            -0.565470              -0.123374   \nwhite                       0.164717               0.190650   \nblack                      -0.321876              -0.039623   \nhispanic                   -0.016740              -0.231186   \nasian                       0.260182               0.017355   \namerican_indian            -0.043332              -0.092880   \nhawaiian_pcislander        -0.094701              -0.071426   \nrace_ethnicity_two          0.112000               0.004581   \nnonresident                 0.200733               0.219540   \nunknown                    -0.069741               0.022197   \n\n                          expenditures_per_student  adm_rate  pell_grant_rate  \\\ncompletion                                0.451118 -0.297737        -0.565470   \npublic_school_tuition                     0.418070  0.067616        -0.123374   \nexpenditures_per_student                  1.000000 -0.384643        -0.320723   \nadm_rate                                 -0.384643  1.000000         0.118348   \npell_grant_rate                          -0.320723  0.118348         1.000000   \nwhite                                     0.037661  0.245675        -0.282333   \nblack                                    -0.151433 -0.116834         0.475038   \nhispanic                                 -0.095913 -0.057294         0.052887   \nasian                                     0.248910 -0.287732        -0.206219   \namerican_indian                          -0.001747  0.059356         0.073972   \nhawaiian_pcislander                      -0.040525  0.013785         0.056482   \nrace_ethnicity_two                        0.102924 -0.076833        -0.125874   \nnonresident                               0.242489 -0.185066        -0.291917   \nunknown                                   0.011870 -0.013716        -0.012612   \n\n                             white     black  hispanic     asian  \\\ncompletion                0.164717 -0.321876 -0.016740  0.260182   \npublic_school_tuition     0.190650 -0.039623 -0.231186  0.017355   \nexpenditures_per_student  0.037661 -0.151433 -0.095913  0.248910   \nadm_rate                  0.245675 -0.116834 -0.057294 -0.287732   \npell_grant_rate          -0.282333  0.475038  0.052887 -0.206219   \nwhite                     1.000000 -0.539524 -0.542132 -0.325517   \nblack                    -0.539524  1.000000 -0.139516 -0.148389   \nhispanic                 -0.542132 -0.139516  1.000000  0.181407   \nasian                    -0.325517 -0.148389  0.181407  1.000000   \namerican_indian          -0.160988 -0.091492 -0.047228 -0.069042   \nhawaiian_pcislander      -0.133356 -0.032346  0.059547  0.187013   \nrace_ethnicity_two       -0.093288 -0.127097  0.006731  0.210037   \nnonresident              -0.150679 -0.131092 -0.033324  0.216433   \nunknown                  -0.193684 -0.034165 -0.030911 -0.008088   \n\n                          american_indian  hawaiian_pcislander  \\\ncompletion                      -0.043332            -0.094701   \npublic_school_tuition           -0.092880            -0.071426   \nexpenditures_per_student        -0.001747            -0.040525   \nadm_rate                         0.059356             0.013785   \npell_grant_rate                  0.073972             0.056482   \nwhite                           -0.160988            -0.133356   \nblack                           -0.091492            -0.032346   \nhispanic                        -0.047228             0.059547   \nasian                           -0.069042             0.187013   \namerican_indian                  1.000000            -0.009668   \nhawaiian_pcislander             -0.009668             1.000000   \nrace_ethnicity_two              -0.024952             0.149586   \nnonresident                     -0.054998            -0.026021   \nunknown                         -0.032272             0.005134   \n\n                          race_ethnicity_two  nonresident   unknown  \ncompletion                          0.112000     0.200733 -0.069741  \npublic_school_tuition               0.004581     0.219540  0.022197  \nexpenditures_per_student            0.102924     0.242489  0.011870  \nadm_rate                           -0.076833    -0.185066 -0.013716  \npell_grant_rate                    -0.125874    -0.291917 -0.012612  \nwhite                              -0.093288    -0.150679 -0.193684  \nblack                              -0.127097    -0.131092 -0.034165  \nhispanic                            0.006731    -0.033324 -0.030911  \nasian                               0.210037     0.216433 -0.008088  \namerican_indian                    -0.024952    -0.054998 -0.032272  \nhawaiian_pcislander                 0.149586    -0.026021  0.005134  \nrace_ethnicity_two                  1.000000     0.044996 -0.044771  \nnonresident                         0.044996     1.000000  0.013205  \nunknown                            -0.044771     0.013205  1.000000  "
          },
          "metadata": {}
        }
      ]
    },
    {
      "metadata": {},
      "cell_type": "markdown",
      "source": "### These results are promising so far, let's remove NaN observations and run a regression"
    },
    {
      "metadata": {
        "trusted": true
      },
      "cell_type": "code",
      "source": "df.dropna(inplace = True)\ndf.head()",
      "execution_count": 10,
      "outputs": [
        {
          "output_type": "stream",
          "text": "/home/nbuser/anaconda3_420/lib/python3.5/site-packages/ipykernel/__main__.py:1: SettingWithCopyWarning: \nA value is trying to be set on a copy of a slice from a DataFrame\n\nSee the caveats in the documentation: http://pandas.pydata.org/pandas-docs/stable/indexing.html#indexing-view-versus-copy\n  if __name__ == '__main__':\n",
          "name": "stderr"
        },
        {
          "output_type": "execute_result",
          "execution_count": 10,
          "data": {
            "text/html": "<div>\n<table border=\"1\" class=\"dataframe\">\n  <thead>\n    <tr style=\"text-align: right;\">\n      <th></th>\n      <th>completion</th>\n      <th>public_school_tuition</th>\n      <th>expenditures_per_student</th>\n      <th>adm_rate</th>\n      <th>pell_grant_rate</th>\n      <th>white</th>\n      <th>black</th>\n      <th>hispanic</th>\n      <th>asian</th>\n      <th>american_indian</th>\n      <th>hawaiian_pcislander</th>\n      <th>race_ethnicity_two</th>\n      <th>nonresident</th>\n      <th>unknown</th>\n    </tr>\n  </thead>\n  <tbody>\n    <tr>\n      <th>0</th>\n      <td>0.0643</td>\n      <td>15567.0</td>\n      <td>5888.0</td>\n      <td>0.8738</td>\n      <td>0.7039</td>\n      <td>0.0256</td>\n      <td>0.9129</td>\n      <td>0.0076</td>\n      <td>0.0019</td>\n      <td>0.0024</td>\n      <td>0.0017</td>\n      <td>0.0401</td>\n      <td>0.0065</td>\n      <td>0.0013</td>\n    </tr>\n    <tr>\n      <th>1</th>\n      <td>0.3018</td>\n      <td>16475.0</td>\n      <td>17055.0</td>\n      <td>0.5814</td>\n      <td>0.3525</td>\n      <td>0.5786</td>\n      <td>0.2626</td>\n      <td>0.0309</td>\n      <td>0.0598</td>\n      <td>0.0028</td>\n      <td>0.0004</td>\n      <td>0.0387</td>\n      <td>0.0179</td>\n      <td>0.0083</td>\n    </tr>\n    <tr>\n      <th>3</th>\n      <td>0.1533</td>\n      <td>19423.0</td>\n      <td>10558.0</td>\n      <td>0.7628</td>\n      <td>0.2949</td>\n      <td>0.7148</td>\n      <td>0.1131</td>\n      <td>0.0411</td>\n      <td>0.0414</td>\n      <td>0.0120</td>\n      <td>0.0000</td>\n      <td>0.0181</td>\n      <td>0.0303</td>\n      <td>0.0292</td>\n    </tr>\n    <tr>\n      <th>4</th>\n      <td>0.0725</td>\n      <td>15037.0</td>\n      <td>7889.0</td>\n      <td>0.4590</td>\n      <td>0.7815</td>\n      <td>0.0138</td>\n      <td>0.9337</td>\n      <td>0.0111</td>\n      <td>0.0028</td>\n      <td>0.0013</td>\n      <td>0.0004</td>\n      <td>0.0111</td>\n      <td>0.0159</td>\n      <td>0.0100</td>\n    </tr>\n    <tr>\n      <th>5</th>\n      <td>0.4385</td>\n      <td>21676.0</td>\n      <td>10478.0</td>\n      <td>0.5259</td>\n      <td>0.1938</td>\n      <td>0.7841</td>\n      <td>0.1037</td>\n      <td>0.0437</td>\n      <td>0.0118</td>\n      <td>0.0036</td>\n      <td>0.0009</td>\n      <td>0.0297</td>\n      <td>0.0192</td>\n      <td>0.0033</td>\n    </tr>\n  </tbody>\n</table>\n</div>",
            "text/plain": "   completion  public_school_tuition  expenditures_per_student  adm_rate  \\\n0      0.0643                15567.0                    5888.0    0.8738   \n1      0.3018                16475.0                   17055.0    0.5814   \n3      0.1533                19423.0                   10558.0    0.7628   \n4      0.0725                15037.0                    7889.0    0.4590   \n5      0.4385                21676.0                   10478.0    0.5259   \n\n   pell_grant_rate   white   black  hispanic   asian  american_indian  \\\n0           0.7039  0.0256  0.9129    0.0076  0.0019           0.0024   \n1           0.3525  0.5786  0.2626    0.0309  0.0598           0.0028   \n3           0.2949  0.7148  0.1131    0.0411  0.0414           0.0120   \n4           0.7815  0.0138  0.9337    0.0111  0.0028           0.0013   \n5           0.1938  0.7841  0.1037    0.0437  0.0118           0.0036   \n\n   hawaiian_pcislander  race_ethnicity_two  nonresident  unknown  \n0               0.0017              0.0401       0.0065   0.0013  \n1               0.0004              0.0387       0.0179   0.0083  \n3               0.0000              0.0181       0.0303   0.0292  \n4               0.0004              0.0111       0.0159   0.0100  \n5               0.0009              0.0297       0.0192   0.0033  "
          },
          "metadata": {}
        }
      ]
    },
    {
      "metadata": {},
      "cell_type": "markdown",
      "source": "### Next let's run a regression and see what the results are"
    },
    {
      "metadata": {
        "trusted": true,
        "scrolled": true
      },
      "cell_type": "code",
      "source": "import statsmodels.formula.api as sm\n\nreg1 = sm.ols(formula='completion ~ public_school_tuition + expenditures_per_student + adm_rate + pell_grant_rate + white + black + hispanic + asian + american_indian + hawaiian_pcislander + race_ethnicity_two + nonresident + unknown', data=df).fit()\nreg1.summary()",
      "execution_count": null,
      "outputs": []
    },
    {
      "metadata": {},
      "cell_type": "markdown",
      "source": "### Our race/ethnicity variables leave something to be desired, lets remove some of them and see if the significance increases"
    },
    {
      "metadata": {
        "trusted": true
      },
      "cell_type": "code",
      "source": "reg2 = sm.ols(formula='completion ~ public_school_tuition + expenditures_per_student + adm_rate + pell_grant_rate + white + black + hispanic + asian', data=df).fit()\nreg2.summary()",
      "execution_count": null,
      "outputs": []
    },
    {
      "metadata": {},
      "cell_type": "markdown",
      "source": "### Narrowing down the specification in the race/ethnicity category seems to have improved the predictive capabilities of our model. Race/ethnicity factors are now signficant except for the black variable"
    },
    {
      "metadata": {},
      "cell_type": "markdown",
      "source": "### From the beginning we had a problem with our money-based variables. The coefficients are very small. So lets consider them in an either thousands of dollars specifcation or a log specification"
    },
    {
      "metadata": {
        "trusted": true
      },
      "cell_type": "code",
      "source": "df[\"log_public_school_tuition\"] = np.log(df['public_school_tuition'])\ndf[\"public_school_tuition_thousands\"] = df[\"public_school_tuition\"]/1000\ndf[\"log_expenditures_per_student\"] = np.log(df['expenditures_per_student'])\ndf[\"expenditures_per_student_thousands\"] = df[\"expenditures_per_student\"]/1000",
      "execution_count": 11,
      "outputs": [
        {
          "output_type": "stream",
          "text": "/home/nbuser/anaconda3_420/lib/python3.5/site-packages/ipykernel/__main__.py:1: SettingWithCopyWarning: \nA value is trying to be set on a copy of a slice from a DataFrame.\nTry using .loc[row_indexer,col_indexer] = value instead\n\nSee the caveats in the documentation: http://pandas.pydata.org/pandas-docs/stable/indexing.html#indexing-view-versus-copy\n  if __name__ == '__main__':\n/home/nbuser/anaconda3_420/lib/python3.5/site-packages/ipykernel/__main__.py:2: SettingWithCopyWarning: \nA value is trying to be set on a copy of a slice from a DataFrame.\nTry using .loc[row_indexer,col_indexer] = value instead\n\nSee the caveats in the documentation: http://pandas.pydata.org/pandas-docs/stable/indexing.html#indexing-view-versus-copy\n  from ipykernel import kernelapp as app\n/home/nbuser/anaconda3_420/lib/python3.5/site-packages/ipykernel/__main__.py:3: SettingWithCopyWarning: \nA value is trying to be set on a copy of a slice from a DataFrame.\nTry using .loc[row_indexer,col_indexer] = value instead\n\nSee the caveats in the documentation: http://pandas.pydata.org/pandas-docs/stable/indexing.html#indexing-view-versus-copy\n  app.launch_new_instance()\n/home/nbuser/anaconda3_420/lib/python3.5/site-packages/ipykernel/__main__.py:4: SettingWithCopyWarning: \nA value is trying to be set on a copy of a slice from a DataFrame.\nTry using .loc[row_indexer,col_indexer] = value instead\n\nSee the caveats in the documentation: http://pandas.pydata.org/pandas-docs/stable/indexing.html#indexing-view-versus-copy\n",
          "name": "stderr"
        }
      ]
    },
    {
      "metadata": {
        "trusted": true
      },
      "cell_type": "code",
      "source": "df.head()",
      "execution_count": 12,
      "outputs": [
        {
          "output_type": "execute_result",
          "execution_count": 12,
          "data": {
            "text/html": "<div>\n<table border=\"1\" class=\"dataframe\">\n  <thead>\n    <tr style=\"text-align: right;\">\n      <th></th>\n      <th>completion</th>\n      <th>public_school_tuition</th>\n      <th>expenditures_per_student</th>\n      <th>adm_rate</th>\n      <th>pell_grant_rate</th>\n      <th>white</th>\n      <th>black</th>\n      <th>hispanic</th>\n      <th>asian</th>\n      <th>american_indian</th>\n      <th>hawaiian_pcislander</th>\n      <th>race_ethnicity_two</th>\n      <th>nonresident</th>\n      <th>unknown</th>\n      <th>log_public_school_tuition</th>\n      <th>public_school_tuition_thousands</th>\n      <th>log_expenditures_per_student</th>\n      <th>expenditures_per_student_thousands</th>\n    </tr>\n  </thead>\n  <tbody>\n    <tr>\n      <th>0</th>\n      <td>0.0643</td>\n      <td>15567.0</td>\n      <td>5888.0</td>\n      <td>0.8738</td>\n      <td>0.7039</td>\n      <td>0.0256</td>\n      <td>0.9129</td>\n      <td>0.0076</td>\n      <td>0.0019</td>\n      <td>0.0024</td>\n      <td>0.0017</td>\n      <td>0.0401</td>\n      <td>0.0065</td>\n      <td>0.0013</td>\n      <td>9.652909</td>\n      <td>15.567</td>\n      <td>8.680672</td>\n      <td>5.888</td>\n    </tr>\n    <tr>\n      <th>1</th>\n      <td>0.3018</td>\n      <td>16475.0</td>\n      <td>17055.0</td>\n      <td>0.5814</td>\n      <td>0.3525</td>\n      <td>0.5786</td>\n      <td>0.2626</td>\n      <td>0.0309</td>\n      <td>0.0598</td>\n      <td>0.0028</td>\n      <td>0.0004</td>\n      <td>0.0387</td>\n      <td>0.0179</td>\n      <td>0.0083</td>\n      <td>9.709599</td>\n      <td>16.475</td>\n      <td>9.744199</td>\n      <td>17.055</td>\n    </tr>\n    <tr>\n      <th>3</th>\n      <td>0.1533</td>\n      <td>19423.0</td>\n      <td>10558.0</td>\n      <td>0.7628</td>\n      <td>0.2949</td>\n      <td>0.7148</td>\n      <td>0.1131</td>\n      <td>0.0411</td>\n      <td>0.0414</td>\n      <td>0.0120</td>\n      <td>0.0000</td>\n      <td>0.0181</td>\n      <td>0.0303</td>\n      <td>0.0292</td>\n      <td>9.874213</td>\n      <td>19.423</td>\n      <td>9.264639</td>\n      <td>10.558</td>\n    </tr>\n    <tr>\n      <th>4</th>\n      <td>0.0725</td>\n      <td>15037.0</td>\n      <td>7889.0</td>\n      <td>0.4590</td>\n      <td>0.7815</td>\n      <td>0.0138</td>\n      <td>0.9337</td>\n      <td>0.0111</td>\n      <td>0.0028</td>\n      <td>0.0013</td>\n      <td>0.0004</td>\n      <td>0.0111</td>\n      <td>0.0159</td>\n      <td>0.0100</td>\n      <td>9.618269</td>\n      <td>15.037</td>\n      <td>8.973225</td>\n      <td>7.889</td>\n    </tr>\n    <tr>\n      <th>5</th>\n      <td>0.4385</td>\n      <td>21676.0</td>\n      <td>10478.0</td>\n      <td>0.5259</td>\n      <td>0.1938</td>\n      <td>0.7841</td>\n      <td>0.1037</td>\n      <td>0.0437</td>\n      <td>0.0118</td>\n      <td>0.0036</td>\n      <td>0.0009</td>\n      <td>0.0297</td>\n      <td>0.0192</td>\n      <td>0.0033</td>\n      <td>9.983961</td>\n      <td>21.676</td>\n      <td>9.257033</td>\n      <td>10.478</td>\n    </tr>\n  </tbody>\n</table>\n</div>",
            "text/plain": "   completion  public_school_tuition  expenditures_per_student  adm_rate  \\\n0      0.0643                15567.0                    5888.0    0.8738   \n1      0.3018                16475.0                   17055.0    0.5814   \n3      0.1533                19423.0                   10558.0    0.7628   \n4      0.0725                15037.0                    7889.0    0.4590   \n5      0.4385                21676.0                   10478.0    0.5259   \n\n   pell_grant_rate   white   black  hispanic   asian  american_indian  \\\n0           0.7039  0.0256  0.9129    0.0076  0.0019           0.0024   \n1           0.3525  0.5786  0.2626    0.0309  0.0598           0.0028   \n3           0.2949  0.7148  0.1131    0.0411  0.0414           0.0120   \n4           0.7815  0.0138  0.9337    0.0111  0.0028           0.0013   \n5           0.1938  0.7841  0.1037    0.0437  0.0118           0.0036   \n\n   hawaiian_pcislander  race_ethnicity_two  nonresident  unknown  \\\n0               0.0017              0.0401       0.0065   0.0013   \n1               0.0004              0.0387       0.0179   0.0083   \n3               0.0000              0.0181       0.0303   0.0292   \n4               0.0004              0.0111       0.0159   0.0100   \n5               0.0009              0.0297       0.0192   0.0033   \n\n   log_public_school_tuition  public_school_tuition_thousands  \\\n0                   9.652909                           15.567   \n1                   9.709599                           16.475   \n3                   9.874213                           19.423   \n4                   9.618269                           15.037   \n5                   9.983961                           21.676   \n\n   log_expenditures_per_student  expenditures_per_student_thousands  \n0                      8.680672                               5.888  \n1                      9.744199                              17.055  \n3                      9.264639                              10.558  \n4                      8.973225                               7.889  \n5                      9.257033                              10.478  "
          },
          "metadata": {}
        }
      ]
    },
    {
      "metadata": {},
      "cell_type": "markdown",
      "source": "### Let's run the model with log specifications. The interpretation is that for each percent increase in costs/tuition, the completion rate should be effected by some percentage of 100."
    },
    {
      "metadata": {
        "trusted": true
      },
      "cell_type": "code",
      "source": "reg3 = sm.ols(formula='completion ~ log_public_school_tuition + log_expenditures_per_student + adm_rate + pell_grant_rate + white + black + hispanic + asian', data=df).fit()\nreg3.summary()",
      "execution_count": null,
      "outputs": []
    },
    {
      "metadata": {},
      "cell_type": "markdown",
      "source": "### The log spec dropped the r^2, but had easily interperable coefficients"
    },
    {
      "metadata": {},
      "cell_type": "markdown",
      "source": "### Let's try the thousands spec"
    },
    {
      "metadata": {
        "trusted": true
      },
      "cell_type": "code",
      "source": "import statsmodels.formula.api as sm\n\nreg4 = sm.ols(formula='completion ~ public_school_tuition_thousands + expenditures_per_student_thousands + adm_rate + pell_grant_rate + white + black + hispanic + asian', data=df).fit()\nreg4.summary()",
      "execution_count": null,
      "outputs": []
    },
    {
      "metadata": {},
      "cell_type": "markdown",
      "source": "### Here the r^2 remained higher. So it probably makes more sense to keep the thousands specification. Here the coefficients are much more interperable than before. For every thousand dollars more the school charges in tuition, the likelihood of degree completion increases by 1.21%. The same can be said of the impact of an extra thousand dollars in expenditures."
    },
    {
      "metadata": {},
      "cell_type": "markdown",
      "source": "### Next lets see whether the r^2 improves without an intercept"
    },
    {
      "metadata": {
        "trusted": true
      },
      "cell_type": "code",
      "source": "reg5 = sm.ols(formula='completion ~ public_school_tuition_thousands + expenditures_per_student_thousands + adm_rate + pell_grant_rate + white + black + hispanic + asian - 1', data=df).fit()\nreg5.summary()",
      "execution_count": null,
      "outputs": []
    },
    {
      "metadata": {},
      "cell_type": "markdown",
      "source": "### So far our model has eight independent variables. The r^2 is high and this is a predictive model we can leave it for now. Our next step can be testing the model specification with a split test. To do this we first need to employ a regression method that is amenable to a split test. Let's load some libraries"
    },
    {
      "metadata": {
        "trusted": true
      },
      "cell_type": "code",
      "source": "%matplotlib inline\n\nimport scipy.stats as stats\nimport matplotlib.pyplot as plt\nimport sklearn",
      "execution_count": 13,
      "outputs": [
        {
          "output_type": "stream",
          "text": "/home/nbuser/anaconda3_420/lib/python3.5/site-packages/matplotlib/font_manager.py:281: UserWarning: Matplotlib is building the font cache using fc-list. This may take a moment.\n  'Matplotlib is building the font cache using fc-list. '\n",
          "name": "stderr"
        }
      ]
    },
    {
      "metadata": {
        "trusted": true
      },
      "cell_type": "code",
      "source": "from sklearn.linear_model import LinearRegression\nX = df.drop(['completion', \"public_school_tuition\", \"expenditures_per_student\", \"log_public_school_tuition\", \"log_expenditures_per_student\", \"american_indian\", \"hawaiian_pcislander\" ,\"race_ethnicity_two\", \"nonresident\", \"unknown\"], axis = 1)\n\nlm = LinearRegression(fit_intercept=False)\nlm",
      "execution_count": null,
      "outputs": []
    },
    {
      "metadata": {
        "trusted": true
      },
      "cell_type": "code",
      "source": "lm.fit(X, df.completion)",
      "execution_count": null,
      "outputs": []
    },
    {
      "metadata": {},
      "cell_type": "markdown",
      "source": "### Let's check some coefficients to be sure they match with our previous model"
    },
    {
      "metadata": {
        "trusted": true
      },
      "cell_type": "code",
      "source": "reg5.params",
      "execution_count": null,
      "outputs": []
    },
    {
      "metadata": {
        "trusted": true
      },
      "cell_type": "code",
      "source": "pd.DataFrame(list(zip(X.columns, lm.coef_)), columns = [\"features\", 'estimated coefficients'])",
      "execution_count": null,
      "outputs": []
    },
    {
      "metadata": {},
      "cell_type": "markdown",
      "source": "### Great our models match, that's a good start, let's split test"
    },
    {
      "metadata": {
        "trusted": true
      },
      "cell_type": "code",
      "source": "X_train, X_test, Y_train, Y_test = sklearn.model_selection.train_test_split(\n    X, df.completion, test_size=.33, random_state = 5)\nprint(X_train.shape)\nprint(X_test.shape)\nprint(Y_train.shape)\nprint(Y_test.shape)",
      "execution_count": null,
      "outputs": []
    },
    {
      "metadata": {
        "trusted": true
      },
      "cell_type": "code",
      "source": "lm=LinearRegression()\nlm.fit(X_train, Y_train)\npred_train = lm.predict(X_train)\npred_test = lm.predict(X_test)",
      "execution_count": null,
      "outputs": []
    },
    {
      "metadata": {
        "trusted": true
      },
      "cell_type": "code",
      "source": "print('Fit a model X_train, and calculate MSE with Y_train:', np.mean((Y_train - lm.predict(X_train)) ** 2))\nprint('Fit a model X_train, and calculate MSE with X_test, Y_test:', np.mean((Y_test - lm.predict(X_test)) ** 2))",
      "execution_count": null,
      "outputs": []
    },
    {
      "metadata": {},
      "cell_type": "markdown",
      "source": "### The mean of the squared errors is very small which I take to be a positive."
    },
    {
      "metadata": {
        "trusted": true
      },
      "cell_type": "markdown",
      "source": "## Joy's K-Means Clustering \n\ncompletion (dependent) \n\nIndependent Variables - \n\npublic_school_tuition_thousands\nexpenditures_per_student_thousands\nadm_rate\npell_grant_rate\n"
    },
    {
      "metadata": {},
      "cell_type": "markdown",
      "source": "## To simplfy the dataframe, I'm going to create a new dataframe with just the variables I need for the K Means and bring in the necessary library "
    },
    {
      "metadata": {
        "trusted": true,
        "scrolled": true
      },
      "cell_type": "code",
      "source": "km = df[['completion','public_school_tuition_thousands','expenditures_per_student_thousands','adm_rate','pell_grant_rate']]\nkm.head()",
      "execution_count": 14,
      "outputs": [
        {
          "output_type": "execute_result",
          "execution_count": 14,
          "data": {
            "text/html": "<div>\n<table border=\"1\" class=\"dataframe\">\n  <thead>\n    <tr style=\"text-align: right;\">\n      <th></th>\n      <th>completion</th>\n      <th>public_school_tuition_thousands</th>\n      <th>expenditures_per_student_thousands</th>\n      <th>adm_rate</th>\n      <th>pell_grant_rate</th>\n    </tr>\n  </thead>\n  <tbody>\n    <tr>\n      <th>0</th>\n      <td>0.0643</td>\n      <td>15.567</td>\n      <td>5.888</td>\n      <td>0.8738</td>\n      <td>0.7039</td>\n    </tr>\n    <tr>\n      <th>1</th>\n      <td>0.3018</td>\n      <td>16.475</td>\n      <td>17.055</td>\n      <td>0.5814</td>\n      <td>0.3525</td>\n    </tr>\n    <tr>\n      <th>3</th>\n      <td>0.1533</td>\n      <td>19.423</td>\n      <td>10.558</td>\n      <td>0.7628</td>\n      <td>0.2949</td>\n    </tr>\n    <tr>\n      <th>4</th>\n      <td>0.0725</td>\n      <td>15.037</td>\n      <td>7.889</td>\n      <td>0.4590</td>\n      <td>0.7815</td>\n    </tr>\n    <tr>\n      <th>5</th>\n      <td>0.4385</td>\n      <td>21.676</td>\n      <td>10.478</td>\n      <td>0.5259</td>\n      <td>0.1938</td>\n    </tr>\n  </tbody>\n</table>\n</div>",
            "text/plain": "   completion  public_school_tuition_thousands  \\\n0      0.0643                           15.567   \n1      0.3018                           16.475   \n3      0.1533                           19.423   \n4      0.0725                           15.037   \n5      0.4385                           21.676   \n\n   expenditures_per_student_thousands  adm_rate  pell_grant_rate  \n0                               5.888    0.8738           0.7039  \n1                              17.055    0.5814           0.3525  \n3                              10.558    0.7628           0.2949  \n4                               7.889    0.4590           0.7815  \n5                              10.478    0.5259           0.1938  "
          },
          "metadata": {}
        }
      ]
    },
    {
      "metadata": {
        "trusted": true
      },
      "cell_type": "code",
      "source": "from sklearn.cluster import KMeans",
      "execution_count": 15,
      "outputs": []
    },
    {
      "metadata": {},
      "cell_type": "markdown",
      "source": "## For the first iteration of clustering, I am selecting 4 clusters - this is an arbitrary number to begin with... "
    },
    {
      "metadata": {
        "trusted": true,
        "scrolled": true
      },
      "cell_type": "code",
      "source": "kmeans = KMeans(n_clusters = 4)\nkmeans.fit(km)",
      "execution_count": 16,
      "outputs": [
        {
          "output_type": "execute_result",
          "execution_count": 16,
          "data": {
            "text/plain": "KMeans(algorithm='auto', copy_x=True, init='k-means++', max_iter=300,\n    n_clusters=4, n_init=10, n_jobs=1, precompute_distances='auto',\n    random_state=None, tol=0.0001, verbose=0)"
          },
          "metadata": {}
        }
      ]
    },
    {
      "metadata": {
        "trusted": true,
        "scrolled": false
      },
      "cell_type": "code",
      "source": "print(kmeans.cluster_centers_)",
      "execution_count": 17,
      "outputs": [
        {
          "output_type": "stream",
          "text": "[[ 0.18586408  9.73417476  8.57995146  0.65805631  0.42049612]\n [ 0.42250957 17.77217021 12.85629787  0.66183511  0.30650213]\n [ 0.23546457 14.93983465  7.81706299  0.71760709  0.39441654]\n [ 0.48656111 13.98905556 23.98922222  0.48777222  0.34606111]]\n",
          "name": "stdout"
        }
      ]
    },
    {
      "metadata": {},
      "cell_type": "markdown",
      "source": "## I'm creating a new column in my original dataframe (km) that includes the cluster assignments the were derived from the KMeans process. Now that we have the clusters in our dataset, we can look at the data by clusters to determine characteristics. "
    },
    {
      "metadata": {
        "trusted": true
      },
      "cell_type": "code",
      "source": "km['clusters'] = kmeans.labels_\nkm.head()",
      "execution_count": 19,
      "outputs": [
        {
          "output_type": "stream",
          "text": "/home/nbuser/anaconda3_420/lib/python3.5/site-packages/ipykernel/__main__.py:1: SettingWithCopyWarning: \nA value is trying to be set on a copy of a slice from a DataFrame.\nTry using .loc[row_indexer,col_indexer] = value instead\n\nSee the caveats in the documentation: http://pandas.pydata.org/pandas-docs/stable/indexing.html#indexing-view-versus-copy\n  if __name__ == '__main__':\n",
          "name": "stderr"
        },
        {
          "output_type": "execute_result",
          "execution_count": 19,
          "data": {
            "text/html": "<div>\n<table border=\"1\" class=\"dataframe\">\n  <thead>\n    <tr style=\"text-align: right;\">\n      <th></th>\n      <th>completion</th>\n      <th>public_school_tuition_thousands</th>\n      <th>expenditures_per_student_thousands</th>\n      <th>adm_rate</th>\n      <th>pell_grant_rate</th>\n      <th>clusters</th>\n    </tr>\n  </thead>\n  <tbody>\n    <tr>\n      <th>0</th>\n      <td>0.0643</td>\n      <td>15.567</td>\n      <td>5.888</td>\n      <td>0.8738</td>\n      <td>0.7039</td>\n      <td>2</td>\n    </tr>\n    <tr>\n      <th>1</th>\n      <td>0.3018</td>\n      <td>16.475</td>\n      <td>17.055</td>\n      <td>0.5814</td>\n      <td>0.3525</td>\n      <td>1</td>\n    </tr>\n    <tr>\n      <th>3</th>\n      <td>0.1533</td>\n      <td>19.423</td>\n      <td>10.558</td>\n      <td>0.7628</td>\n      <td>0.2949</td>\n      <td>1</td>\n    </tr>\n    <tr>\n      <th>4</th>\n      <td>0.0725</td>\n      <td>15.037</td>\n      <td>7.889</td>\n      <td>0.4590</td>\n      <td>0.7815</td>\n      <td>2</td>\n    </tr>\n    <tr>\n      <th>5</th>\n      <td>0.4385</td>\n      <td>21.676</td>\n      <td>10.478</td>\n      <td>0.5259</td>\n      <td>0.1938</td>\n      <td>1</td>\n    </tr>\n  </tbody>\n</table>\n</div>",
            "text/plain": "   completion  public_school_tuition_thousands  \\\n0      0.0643                           15.567   \n1      0.3018                           16.475   \n3      0.1533                           19.423   \n4      0.0725                           15.037   \n5      0.4385                           21.676   \n\n   expenditures_per_student_thousands  adm_rate  pell_grant_rate  clusters  \n0                               5.888    0.8738           0.7039         2  \n1                              17.055    0.5814           0.3525         1  \n3                              10.558    0.7628           0.2949         1  \n4                               7.889    0.4590           0.7815         2  \n5                              10.478    0.5259           0.1938         1  "
          },
          "metadata": {}
        }
      ]
    },
    {
      "metadata": {},
      "cell_type": "markdown",
      "source": "## I'm going to run a series of pivot tables to see how our data has been grouped. "
    },
    {
      "metadata": {
        "trusted": true,
        "collapsed": true
      },
      "cell_type": "code",
      "source": "print(pd.pivot_table(km, index = 'clusters', values = 'completion'))\nprint(pd.pivot_table(km, index='clusters', values = 'public_school_tuition_thousands'))\nprint(pd.pivot_table(km, index='clusters', values = 'expenditures_per_student_thousands'))\nprint(pd.pivot_table(km, index='clusters', values = 'adm_rate'))\nprint(pd.pivot_table(km, index='clusters', values = 'pell_grant_rate'))",
      "execution_count": 20,
      "outputs": [
        {
          "output_type": "stream",
          "text": "clusters\n0    0.185864\n1    0.422510\n2    0.235465\n3    0.486561\nName: completion, dtype: float64\nclusters\n0     9.734175\n1    17.772170\n2    14.939835\n3    13.989056\nName: public_school_tuition_thousands, dtype: float64\nclusters\n0     8.579951\n1    12.856298\n2     7.817063\n3    23.989222\nName: expenditures_per_student_thousands, dtype: float64\nclusters\n0    0.658056\n1    0.661835\n2    0.717607\n3    0.487772\nName: adm_rate, dtype: float64\nclusters\n0    0.420496\n1    0.306502\n2    0.394417\n3    0.346061\nName: pell_grant_rate, dtype: float64\n",
          "name": "stdout"
        }
      ]
    },
    {
      "metadata": {
        "trusted": true,
        "scrolled": true
      },
      "cell_type": "code",
      "source": "pd.pivot_table(km, index = 'clusters', values = 'completion').plot(kind = 'bar')\nplt.ylabel(\"Mean\")",
      "execution_count": 21,
      "outputs": [
        {
          "output_type": "execute_result",
          "execution_count": 21,
          "data": {
            "text/plain": "Text(0,0.5,'Mean')"
          },
          "metadata": {}
        },
        {
          "output_type": "display_data",
          "data": {
            "image/png": "[encoded data removed]",
            "text/plain": "<matplotlib.figure.Figure at 0x7fd32cc5c400>"
          },
          "metadata": {}
        }
      ]
    },
    {
      "metadata": {},
      "cell_type": "markdown",
      "source": "## The above graph shows the average completion rate for each of our generated clusters. Schools in cluster 1 & 3 have the highest completion rates; schools in cluster 0 have the lowest. "
    },
    {
      "metadata": {
        "trusted": true
      },
      "cell_type": "code",
      "source": "pd.pivot_table(km, index = 'clusters', values = ['public_school_tuition_thousands','expenditures_per_student_thousands']).plot(kind = 'bar')\nplt.ylabel(\"Mean\")",
      "execution_count": 22,
      "outputs": [
        {
          "output_type": "execute_result",
          "execution_count": 22,
          "data": {
            "text/plain": "Text(0,0.5,'Mean')"
          },
          "metadata": {}
        },
        {
          "output_type": "display_data",
          "data": {
            "image/png": "[encoded data removed]",
            "text/plain": "<matplotlib.figure.Figure at 0x7fd32cc66d30>"
          },
          "metadata": {}
        }
      ]
    },
    {
      "metadata": {},
      "cell_type": "markdown",
      "source": "The above graph shows the average expentitures and tuition by cluster. Schools in cluster 3 spend the most money per full-time student, schools in cluster 2 spend the least. Schools in cluster 1 have the highest tuition. "
    },
    {
      "metadata": {
        "trusted": true
      },
      "cell_type": "code",
      "source": "pd.pivot_table(km, index = 'clusters', values = ['adm_rate','pell_grant_rate']).plot(kind = 'bar')\nplt.ylabel(\"Mean\")",
      "execution_count": 23,
      "outputs": [
        {
          "output_type": "execute_result",
          "execution_count": 23,
          "data": {
            "text/plain": "Text(0,0.5,'Mean')"
          },
          "metadata": {}
        },
        {
          "output_type": "display_data",
          "data": {
            "image/png": "[encoded data removed]",
            "text/plain": "<matplotlib.figure.Figure at 0x7fd32c9bee80>"
          },
          "metadata": {}
        }
      ]
    },
    {
      "metadata": {},
      "cell_type": "markdown",
      "source": "The above graph shows the average admissions rate and Pell grant rate by cluster. Schools in cluster 2 have the highest admission rates; schools in cluster 3 have the lowest. Schools in cluster 0 and in cluster 1 have similar admission rates. \n\nSchools in cluster 0 have the highest rate of Pell Grant students, and schools in cluster 1 have the lowest. Schools in cluster 2 and cluster 3 have similar rates of Pell Grant students. "
    },
    {
      "metadata": {},
      "cell_type": "markdown",
      "source": "## Cluster Characteristics"
    },
    {
      "metadata": {},
      "cell_type": "markdown",
      "source": "**Cluster 0 Schools: Low completion rate; low expenditures per student; lowest tuition; moderate tuition rate; highest rate of Pell Grant students \n\n**Cluster 1 Schools: high completion rate; highest tuition; moderate expenditures per student; moderate admission rate; lowest rate of Pell Grant students\n\n**Cluster 2 Schools: low completion rate; lowest expenditures per student; moderate tuition; highest admissions rate; second highest rate of Pell Grant students \n\n**Cluster 3 Schools: highest completion rate; highest expenditures per student; moderate tuition; lowest admissions rate; moderate rate of Pell Grant students \n\nAll clusters are fairly distinct, but it's worth trying with 5 clusters to see if we can further identify unique groups. "
    },
    {
      "metadata": {
        "trusted": true
      },
      "cell_type": "code",
      "source": "kmeans2 = KMeans(n_clusters = 5)\nkmeans2.fit(km)",
      "execution_count": 24,
      "outputs": [
        {
          "output_type": "execute_result",
          "execution_count": 24,
          "data": {
            "text/plain": "KMeans(algorithm='auto', copy_x=True, init='k-means++', max_iter=300,\n    n_clusters=5, n_init=10, n_jobs=1, precompute_distances='auto',\n    random_state=None, tol=0.0001, verbose=0)"
          },
          "metadata": {}
        }
      ]
    },
    {
      "metadata": {
        "trusted": true
      },
      "cell_type": "code",
      "source": "print(kmeans2.cluster_centers_)",
      "execution_count": 25,
      "outputs": [
        {
          "output_type": "stream",
          "text": "[[ 2.33302479e-01  1.46687769e+01  7.89672727e+00  7.11816529e-01\n   3.98452066e-01  1.97520661e+00]\n [ 4.02063830e-01  1.46395957e+01  1.61883191e+01  6.15153191e-01\n   3.25180851e-01  1.34042553e+00]\n [ 4.16947761e-01  1.90842239e+01  1.10839104e+01  6.78691045e-01\n   3.02589552e-01  1.13432836e+00]\n [ 1.79464646e-01  9.69066667e+00  8.36506061e+00  6.67174747e-01\n   4.26352525e-01 -1.77635684e-15]\n [ 5.86612500e-01  1.51705000e+01  2.87102500e+01  4.17962500e-01\n   3.07962500e-01  3.00000000e+00]]\n",
          "name": "stdout"
        }
      ]
    },
    {
      "metadata": {
        "trusted": true
      },
      "cell_type": "code",
      "source": "km['clusters2'] = kmeans2.labels_\nkm.head()",
      "execution_count": 26,
      "outputs": [
        {
          "output_type": "stream",
          "text": "/home/nbuser/anaconda3_420/lib/python3.5/site-packages/ipykernel/__main__.py:1: SettingWithCopyWarning: \nA value is trying to be set on a copy of a slice from a DataFrame.\nTry using .loc[row_indexer,col_indexer] = value instead\n\nSee the caveats in the documentation: http://pandas.pydata.org/pandas-docs/stable/indexing.html#indexing-view-versus-copy\n  if __name__ == '__main__':\n",
          "name": "stderr"
        },
        {
          "output_type": "execute_result",
          "execution_count": 26,
          "data": {
            "text/html": "<div>\n<table border=\"1\" class=\"dataframe\">\n  <thead>\n    <tr style=\"text-align: right;\">\n      <th></th>\n      <th>completion</th>\n      <th>public_school_tuition_thousands</th>\n      <th>expenditures_per_student_thousands</th>\n      <th>adm_rate</th>\n      <th>pell_grant_rate</th>\n      <th>clusters</th>\n      <th>clusters2</th>\n    </tr>\n  </thead>\n  <tbody>\n    <tr>\n      <th>0</th>\n      <td>0.0643</td>\n      <td>15.567</td>\n      <td>5.888</td>\n      <td>0.8738</td>\n      <td>0.7039</td>\n      <td>2</td>\n      <td>0</td>\n    </tr>\n    <tr>\n      <th>1</th>\n      <td>0.3018</td>\n      <td>16.475</td>\n      <td>17.055</td>\n      <td>0.5814</td>\n      <td>0.3525</td>\n      <td>1</td>\n      <td>1</td>\n    </tr>\n    <tr>\n      <th>3</th>\n      <td>0.1533</td>\n      <td>19.423</td>\n      <td>10.558</td>\n      <td>0.7628</td>\n      <td>0.2949</td>\n      <td>1</td>\n      <td>2</td>\n    </tr>\n    <tr>\n      <th>4</th>\n      <td>0.0725</td>\n      <td>15.037</td>\n      <td>7.889</td>\n      <td>0.4590</td>\n      <td>0.7815</td>\n      <td>2</td>\n      <td>0</td>\n    </tr>\n    <tr>\n      <th>5</th>\n      <td>0.4385</td>\n      <td>21.676</td>\n      <td>10.478</td>\n      <td>0.5259</td>\n      <td>0.1938</td>\n      <td>1</td>\n      <td>2</td>\n    </tr>\n  </tbody>\n</table>\n</div>",
            "text/plain": "   completion  public_school_tuition_thousands  \\\n0      0.0643                           15.567   \n1      0.3018                           16.475   \n3      0.1533                           19.423   \n4      0.0725                           15.037   \n5      0.4385                           21.676   \n\n   expenditures_per_student_thousands  adm_rate  pell_grant_rate  clusters  \\\n0                               5.888    0.8738           0.7039         2   \n1                              17.055    0.5814           0.3525         1   \n3                              10.558    0.7628           0.2949         1   \n4                               7.889    0.4590           0.7815         2   \n5                              10.478    0.5259           0.1938         1   \n\n   clusters2  \n0          0  \n1          1  \n3          2  \n4          0  \n5          2  "
          },
          "metadata": {}
        }
      ]
    },
    {
      "metadata": {
        "trusted": true
      },
      "cell_type": "code",
      "source": "print(pd.pivot_table(km, index = 'clusters2', values = 'completion'))\nprint(pd.pivot_table(km, index='clusters2', values = 'public_school_tuition_thousands'))\nprint(pd.pivot_table(km, index='clusters2', values = 'expenditures_per_student_thousands'))\nprint(pd.pivot_table(km, index='clusters2', values = 'adm_rate'))\nprint(pd.pivot_table(km, index='clusters2', values = 'pell_grant_rate'))",
      "execution_count": 27,
      "outputs": [
        {
          "output_type": "stream",
          "text": "clusters2\n0    0.233302\n1    0.402064\n2    0.416948\n3    0.179465\n4    0.586612\nName: completion, dtype: float64\nclusters2\n0    14.668777\n1    14.639596\n2    19.084224\n3     9.690667\n4    15.170500\nName: public_school_tuition_thousands, dtype: float64\nclusters2\n0     7.896727\n1    16.188319\n2    11.083910\n3     8.365061\n4    28.710250\nName: expenditures_per_student_thousands, dtype: float64\nclusters2\n0    0.711817\n1    0.615153\n2    0.678691\n3    0.667175\n4    0.417963\nName: adm_rate, dtype: float64\nclusters2\n0    0.398452\n1    0.325181\n2    0.302590\n3    0.426353\n4    0.307962\nName: pell_grant_rate, dtype: float64\n",
          "name": "stdout"
        }
      ]
    },
    {
      "metadata": {
        "trusted": true
      },
      "cell_type": "code",
      "source": "pd.pivot_table(km, index = 'clusters2', values = ['completion','adm_rate','pell_grant_rate']).plot(kind='bar')",
      "execution_count": 30,
      "outputs": [
        {
          "output_type": "execute_result",
          "execution_count": 30,
          "data": {
            "text/plain": "<matplotlib.axes._subplots.AxesSubplot at 0x7fd32c58a7b8>"
          },
          "metadata": {}
        },
        {
          "output_type": "display_data",
          "data": {
            "image/png": "[encoded data removed]",
            "text/plain": "<matplotlib.figure.Figure at 0x7fd32c5c9eb8>"
          },
          "metadata": {}
        }
      ]
    },
    {
      "metadata": {},
      "cell_type": "markdown",
      "source": "## Across 3 of our target variables, schools in cluster 1 and in cluster 2 look very similar. I think we can stick with 4 clusters to show unique grouping. "
    }
  ],
  "metadata": {
    "kernelspec": {
      "name": "python3",
      "display_name": "Python 3",
      "language": "python"
    },
    "language_info": {
      "mimetype": "text/x-python",
      "nbconvert_exporter": "python",
      "name": "python",
      "file_extension": ".py",
      "version": "3.5.4",
      "pygments_lexer": "ipython3",
      "codemirror_mode": {
        "version": 3,
        "name": "ipython"
      }
    }
  },
  "nbformat": 4,
  "nbformat_minor": 2
}